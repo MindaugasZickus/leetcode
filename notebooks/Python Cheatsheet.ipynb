{
 "cells": [
  {
   "cell_type": "markdown",
   "id": "648facd3",
   "metadata": {},
   "source": [
    "## List"
   ]
  },
  {
   "cell_type": "code",
   "execution_count": null,
   "id": "3ad883c8",
   "metadata": {},
   "outputs": [],
   "source": [
    "nums = []"
   ]
  },
  {
   "cell_type": "code",
   "execution_count": null,
   "id": "7c87b0b6",
   "metadata": {},
   "outputs": [],
   "source": [
    "# check if list is empty\n",
    "if not nums:\n",
    "    print(\"Empty list\")"
   ]
  },
  {
   "cell_type": "code",
   "execution_count": null,
   "id": "a5776f8d",
   "metadata": {},
   "outputs": [],
   "source": [
    "scores = [1,5,7,2,9]\n",
    "\n",
    "print( \"Size of list :\", len(scores) )\n",
    "\n",
    "print( \"First element :\", scores[0])\n",
    "print( \"Last element :\", scores[-1])\n",
    "print( \"Display list with for each loop:\")\n",
    "for s in scores:\n",
    "    print(s)\n",
    "\n",
    "\n",
    "print( \"Display list with Range for loop:\")\n",
    "for i in range(len(scores)):\n",
    "    print(scores[i])"
   ]
  },
  {
   "cell_type": "code",
   "execution_count": null,
   "id": "6ca1cae5",
   "metadata": {},
   "outputs": [],
   "source": [
    "print(\"range 5\")\n",
    "for i in range(5):\n",
    "    print(i)\n",
    "    \n",
    "print(\"range(2,7)\")\n",
    "for i in range(2,7):\n",
    "    print(i)\n",
    "    \n",
    "print(\"range(7,2,-1)\")\n",
    "for i in range(7,2,-1):\n",
    "    print(i)"
   ]
  },
  {
   "cell_type": "markdown",
   "id": "5bb65845",
   "metadata": {},
   "source": [
    "## Strings"
   ]
  },
  {
   "cell_type": "code",
   "execution_count": null,
   "id": "b7ba33ae",
   "metadata": {},
   "outputs": [],
   "source": [
    "name = 'Rupashi Sangal'\n",
    "strn = 'why,thank]you'\n",
    "dog = \"tommy\"\n",
    "\n",
    "print( name.split())\n",
    "print( strn.split(','))\n",
    "print( list(strn))\n",
    "print( len(name))\n",
    "print( dog.capitalize())\n",
    "print( dog.upper())\n",
    "print( name.lower())\n",
    "print (dog.islower())\n",
    "print (dog.isupper())\n",
    "     \n",
    "\n"
   ]
  },
  {
   "cell_type": "markdown",
   "id": "0c4f1816",
   "metadata": {},
   "source": [
    "## Random"
   ]
  },
  {
   "cell_type": "code",
   "execution_count": null,
   "id": "ddcd5093",
   "metadata": {},
   "outputs": [],
   "source": [
    "# If else in same line\n",
    "cur.next = list1 if list1 else list2\n",
    "\n",
    "# Assigning values in same line\n",
    "list1, cur = list1.next, list1\n",
    "\n"
   ]
  },
  {
   "cell_type": "code",
   "execution_count": null,
   "id": "63b6dba6",
   "metadata": {},
   "outputs": [],
   "source": []
  }
 ],
 "metadata": {
  "kernelspec": {
   "display_name": "local-venv-kernel",
   "language": "python",
   "name": "local-venv-kernel"
  },
  "language_info": {
   "codemirror_mode": {
    "name": "ipython",
    "version": 3
   },
   "file_extension": ".py",
   "mimetype": "text/x-python",
   "name": "python",
   "nbconvert_exporter": "python",
   "pygments_lexer": "ipython3",
   "version": "3.8.9"
  }
 },
 "nbformat": 4,
 "nbformat_minor": 5
}

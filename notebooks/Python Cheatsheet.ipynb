{
 "cells": [
  {
   "cell_type": "code",
   "execution_count": 42,
   "id": "ce715ca1",
   "metadata": {},
   "outputs": [],
   "source": [
    "import re"
   ]
  },
  {
   "cell_type": "markdown",
   "id": "648facd3",
   "metadata": {},
   "source": [
    "## List"
   ]
  },
  {
   "cell_type": "code",
   "execution_count": 43,
   "id": "3ad883c8",
   "metadata": {},
   "outputs": [],
   "source": [
    "nums = []"
   ]
  },
  {
   "cell_type": "code",
   "execution_count": 44,
   "id": "7c87b0b6",
   "metadata": {},
   "outputs": [
    {
     "name": "stdout",
     "output_type": "stream",
     "text": [
      "Empty list\n"
     ]
    }
   ],
   "source": [
    "# check if list is empty\n",
    "if not nums:\n",
    "    print(\"Empty list\")"
   ]
  },
  {
   "cell_type": "code",
   "execution_count": 45,
   "id": "a5776f8d",
   "metadata": {},
   "outputs": [
    {
     "name": "stdout",
     "output_type": "stream",
     "text": [
      "Size of list : 5\n",
      "First element : 1\n",
      "Last element : 9\n",
      "Display list with for each loop:\n",
      "1\n",
      "5\n",
      "7\n",
      "2\n",
      "9\n",
      "Display list with Range for loop:\n",
      "1\n",
      "5\n",
      "7\n",
      "2\n",
      "9\n"
     ]
    }
   ],
   "source": [
    "scores = [1,5,7,2,9]\n",
    "\n",
    "print( \"Size of list :\", len(scores) )\n",
    "\n",
    "print( \"First element :\", scores[0])\n",
    "print( \"Last element :\", scores[-1])\n",
    "print( \"Display list with for each loop:\")\n",
    "for s in scores:\n",
    "    print(s)\n",
    "\n",
    "\n",
    "print( \"Display list with Range for loop:\")\n",
    "for i in range(len(scores)):\n",
    "    print(scores[i])"
   ]
  },
  {
   "cell_type": "code",
   "execution_count": 46,
   "id": "6ca1cae5",
   "metadata": {},
   "outputs": [
    {
     "name": "stdout",
     "output_type": "stream",
     "text": [
      "range 5\n",
      "0\n",
      "1\n",
      "2\n",
      "3\n",
      "4\n",
      "range(2,7)\n",
      "2\n",
      "3\n",
      "4\n",
      "5\n",
      "6\n",
      "range(7,2,-1)\n",
      "7\n",
      "6\n",
      "5\n",
      "4\n",
      "3\n"
     ]
    }
   ],
   "source": [
    "print(\"range 5\")\n",
    "for i in range(5):\n",
    "    print(i)\n",
    "    \n",
    "print(\"range(2,7)\")\n",
    "for i in range(2,7):\n",
    "    print(i)\n",
    "    \n",
    "print(\"range(7,2,-1)\")\n",
    "for i in range(7,2,-1):\n",
    "    print(i)"
   ]
  },
  {
   "cell_type": "code",
   "execution_count": 47,
   "id": "a3b6ce55",
   "metadata": {},
   "outputs": [
    {
     "data": {
      "text/plain": [
       "0"
      ]
     },
     "execution_count": 47,
     "metadata": {},
     "output_type": "execute_result"
    }
   ],
   "source": [
    "# Null equivalent in python is None\n",
    "class ListNode:\n",
    "    def __init__(self, val=0, next=None):\n",
    "        self.val = val\n",
    "        self.next = next\n",
    "\n",
    "x = ListNode()\n",
    "\n",
    "x.val"
   ]
  },
  {
   "cell_type": "markdown",
   "id": "5bb65845",
   "metadata": {},
   "source": [
    "## Strings"
   ]
  },
  {
   "cell_type": "code",
   "execution_count": 48,
   "id": "b7ba33ae",
   "metadata": {
    "scrolled": true
   },
   "outputs": [
    {
     "name": "stdout",
     "output_type": "stream",
     "text": [
      "['Rupashi', 'Sangal']\n",
      "['why', 'thank]you']\n",
      "['w', 'h', 'y', ',', 't', 'h', 'a', 'n', 'k', ']', 'y', 'o', 'u']\n",
      "14\n",
      "Tommy\n",
      "TOMMY\n",
      "rupashi sangal\n",
      "True\n",
      "False\n"
     ]
    }
   ],
   "source": [
    "name = 'Rupashi Sangal'\n",
    "strn = 'why,thank]you'\n",
    "dog = \"tommy\"\n",
    "\n",
    "print( name.split())\n",
    "print( strn.split(','))\n",
    "print( list(strn))\n",
    "print( len(name))\n",
    "print( dog.capitalize())\n",
    "print( dog.upper())\n",
    "print( name.lower())\n",
    "print (dog.islower())\n",
    "print (dog.isupper())\n",
    "     \n",
    "\n"
   ]
  },
  {
   "cell_type": "markdown",
   "id": "c33c0e36",
   "metadata": {},
   "source": [
    "## Set"
   ]
  },
  {
   "cell_type": "code",
   "execution_count": 13,
   "id": "e1c9b36d",
   "metadata": {},
   "outputs": [],
   "source": [
    "table = set()"
   ]
  },
  {
   "cell_type": "code",
   "execution_count": 14,
   "id": "9f3a5724",
   "metadata": {},
   "outputs": [],
   "source": [
    "table.add(1)\n",
    "table.add(2)\n",
    "table.add(2)\n",
    "table.add(3)"
   ]
  },
  {
   "cell_type": "code",
   "execution_count": 15,
   "id": "28b66f97",
   "metadata": {},
   "outputs": [
    {
     "data": {
      "text/plain": [
       "{1, 2, 3}"
      ]
     },
     "execution_count": 15,
     "metadata": {},
     "output_type": "execute_result"
    }
   ],
   "source": [
    "table"
   ]
  },
  {
   "cell_type": "code",
   "execution_count": 16,
   "id": "97588e50",
   "metadata": {},
   "outputs": [],
   "source": [
    "table.remove(1)"
   ]
  },
  {
   "cell_type": "code",
   "execution_count": 17,
   "id": "691ab2c7",
   "metadata": {},
   "outputs": [
    {
     "data": {
      "text/plain": [
       "{2, 3}"
      ]
     },
     "execution_count": 17,
     "metadata": {},
     "output_type": "execute_result"
    }
   ],
   "source": [
    "table"
   ]
  },
  {
   "cell_type": "code",
   "execution_count": 18,
   "id": "bed5cc72",
   "metadata": {
    "scrolled": true
   },
   "outputs": [
    {
     "data": {
      "text/plain": [
       "2"
      ]
     },
     "execution_count": 18,
     "metadata": {},
     "output_type": "execute_result"
    }
   ],
   "source": [
    "len(table)"
   ]
  },
  {
   "cell_type": "code",
   "execution_count": 24,
   "id": "af13e95e",
   "metadata": {},
   "outputs": [
    {
     "name": "stdout",
     "output_type": "stream",
     "text": [
      "{1, 2, 3, 6, 7}\n",
      "{1, 2, 3}\n",
      "{6, 7}\n"
     ]
    }
   ],
   "source": [
    "# Union of sets\n",
    "\n",
    "set1 = {1,2,3}\n",
    "set2 = {6,7}\n",
    "set3 = set1.union(set2)  #union\n",
    "print(set3)\n",
    "print(set1)\n",
    "print(set2)"
   ]
  },
  {
   "cell_type": "code",
   "execution_count": 25,
   "id": "ad15d6f9",
   "metadata": {},
   "outputs": [
    {
     "name": "stdout",
     "output_type": "stream",
     "text": [
      "{1, 2, 3, 6, 7}\n",
      "{6, 7}\n"
     ]
    }
   ],
   "source": [
    "# Update set\n",
    "\n",
    "set1.update(set2)   # update\n",
    "print(set1)\n",
    "print(set2)\n"
   ]
  },
  {
   "cell_type": "code",
   "execution_count": 28,
   "id": "25b1d559",
   "metadata": {},
   "outputs": [
    {
     "name": "stdout",
     "output_type": "stream",
     "text": [
      "{4}\n"
     ]
    }
   ],
   "source": [
    "seta = {1, 4, 5}\n",
    "setb = {4, 8}\n",
    "seta.intersection_update(setb)  # intersection\n",
    "print(seta)"
   ]
  },
  {
   "cell_type": "markdown",
   "id": "95a8aa8d",
   "metadata": {},
   "source": [
    "## Random"
   ]
  },
  {
   "cell_type": "code",
   "execution_count": null,
   "id": "7a2cb8e6",
   "metadata": {},
   "outputs": [],
   "source": [
    "# If else in same line\n",
    "cur.next = list1 if list1 else list2\n",
    "\n",
    "# Assigning values in same line\n",
    "list1, cur = list1.next, list1\n",
    "\n"
   ]
  },
  {
   "cell_type": "code",
   "execution_count": 2,
   "id": "add126a5",
   "metadata": {
    "scrolled": true
   },
   "outputs": [
    {
     "name": "stdout",
     "output_type": "stream",
     "text": [
      "0\n",
      "1\n",
      "2\n"
     ]
    }
   ],
   "source": [
    "for i in range(int(7/2)):\n",
    "    print(i)"
   ]
  },
  {
   "cell_type": "code",
   "execution_count": 8,
   "id": "7662e017",
   "metadata": {},
   "outputs": [
    {
     "data": {
      "text/plain": [
       "'ihsapuR'"
      ]
     },
     "execution_count": 8,
     "metadata": {},
     "output_type": "execute_result"
    }
   ],
   "source": [
    "# Reverse a string\n",
    "s=\"Rupashi\"\n",
    "s[::-1]"
   ]
  },
  {
   "cell_type": "code",
   "execution_count": 9,
   "id": "4ce86ecd",
   "metadata": {},
   "outputs": [
    {
     "data": {
      "text/plain": [
       "[9, 0, 1, 6, 4, 1]"
      ]
     },
     "execution_count": 9,
     "metadata": {},
     "output_type": "execute_result"
    }
   ],
   "source": [
    "# Reverse a list\n",
    "a = [1,4,6,1,0,9]\n",
    "a[::-1]"
   ]
  },
  {
   "cell_type": "code",
   "execution_count": null,
   "id": "a1bee091",
   "metadata": {},
   "outputs": [],
   "source": [
    "## Three ways to check alpha numeric values"
   ]
  },
  {
   "cell_type": "code",
   "execution_count": null,
   "id": "3b4c1a29",
   "metadata": {},
   "outputs": [],
   "source": [
    "class Solution:\n",
    "    def isPalindrome(self, s):\n",
    "        s = ''.join(e for e in s if e.isalnum()).lower()  # Way 1\n",
    "        return s==s[::-1]  "
   ]
  },
  {
   "cell_type": "code",
   "execution_count": null,
   "id": "643cbf3b",
   "metadata": {},
   "outputs": [],
   "source": [
    "s =\"Friends , are - forever\"\n",
    "s = list(filter(str.isalnum, s.lower()))  # Way 2"
   ]
  },
  {
   "cell_type": "code",
   "execution_count": null,
   "id": "aa545071",
   "metadata": {},
   "outputs": [],
   "source": [
    "sarr = list(re.sub('[^a-zA-Z0-9]', '', s.lower()))  # Way 3"
   ]
  },
  {
   "cell_type": "code",
   "execution_count": 40,
   "id": "3846d70a",
   "metadata": {},
   "outputs": [
    {
     "data": {
      "text/plain": [
       "True"
      ]
     },
     "execution_count": 40,
     "metadata": {},
     "output_type": "execute_result"
    }
   ],
   "source": [
    "# Any   : Works on a list of iterables\n",
    "\n",
    "any([0,-1,0])  # True\n",
    "any([0,0,0])   # False\n",
    "\n",
    "any({0:'Hi', 1:'Bye'}) # True\n",
    "all({3:'Hi', -1:'Bye'}) # True\n",
    "all({3:'Hi', 0:'Bye'})  # False\n"
   ]
  },
  {
   "cell_type": "code",
   "execution_count": 55,
   "id": "91287c94",
   "metadata": {
    "scrolled": true
   },
   "outputs": [
    {
     "data": {
      "text/plain": [
       "-inf"
      ]
     },
     "execution_count": 55,
     "metadata": {},
     "output_type": "execute_result"
    }
   ],
   "source": [
    "x = float('-inf')\n",
    "y = float('inf')\n",
    "x"
   ]
  },
  {
   "cell_type": "code",
   "execution_count": 56,
   "id": "8bc9e46c",
   "metadata": {},
   "outputs": [
    {
     "name": "stdout",
     "output_type": "stream",
     "text": [
      "Yes\n"
     ]
    }
   ],
   "source": [
    "a, b, c = 2, 4, 5\n",
    "if a < b < c:    # allowed; recommended\n",
    "    print(\"Yes\")"
   ]
  },
  {
   "cell_type": "code",
   "execution_count": 59,
   "id": "9e5e444a",
   "metadata": {},
   "outputs": [
    {
     "name": "stdout",
     "output_type": "stream",
     "text": [
      "4 1 7\n"
     ]
    }
   ],
   "source": [
    "print(\n",
    "max(3,4),\n",
    "min(5,1),\n",
    "abs(3-10)\n",
    ")"
   ]
  },
  {
   "cell_type": "code",
   "execution_count": 94,
   "id": "cbb0fc68",
   "metadata": {},
   "outputs": [
    {
     "data": {
      "text/plain": [
       "2"
      ]
     },
     "execution_count": 94,
     "metadata": {},
     "output_type": "execute_result"
    }
   ],
   "source": [
    "# Floor division for Binary search\n",
    "\n",
    "a = 5\n",
    "b = 2\n",
    "\n",
    "res = 5 // 2\n",
    "res"
   ]
  },
  {
   "cell_type": "code",
   "execution_count": 6,
   "id": "04ac12ac",
   "metadata": {},
   "outputs": [
    {
     "data": {
      "text/plain": [
       "120"
      ]
     },
     "execution_count": 6,
     "metadata": {},
     "output_type": "execute_result"
    }
   ],
   "source": [
    "# Calculating factorial\n",
    "import math\n",
    "math.factorial(5)"
   ]
  },
  {
   "cell_type": "code",
   "execution_count": 8,
   "id": "468de7d1",
   "metadata": {},
   "outputs": [
    {
     "data": {
      "text/plain": [
       "1"
      ]
     },
     "execution_count": 8,
     "metadata": {},
     "output_type": "execute_result"
    }
   ],
   "source": [
    "# Remainder in python\n",
    "\n",
    "a = 10\n",
    "rem = a % 3\n",
    "rem"
   ]
  },
  {
   "cell_type": "code",
   "execution_count": 3,
   "id": "d85adec8",
   "metadata": {},
   "outputs": [
    {
     "data": {
      "text/plain": [
       "32"
      ]
     },
     "execution_count": 3,
     "metadata": {},
     "output_type": "execute_result"
    }
   ],
   "source": [
    "# Exponent in python\n",
    "\n",
    "2**5"
   ]
  },
  {
   "cell_type": "code",
   "execution_count": 4,
   "id": "526fd477",
   "metadata": {},
   "outputs": [
    {
     "data": {
      "text/plain": [
       "'11'"
      ]
     },
     "execution_count": 4,
     "metadata": {},
     "output_type": "execute_result"
    }
   ],
   "source": [
    "# Decimal to Binary in python\n",
    "\n",
    "bin(3).replace(\"0b\",\"\")"
   ]
  },
  {
   "cell_type": "code",
   "execution_count": 7,
   "id": "29fc465d",
   "metadata": {},
   "outputs": [
    {
     "data": {
      "text/plain": [
       "6"
      ]
     },
     "execution_count": 7,
     "metadata": {},
     "output_type": "execute_result"
    }
   ],
   "source": [
    "# Binary to decimal in python\n",
    "\n",
    "int(\"110\", 2)"
   ]
  },
  {
   "cell_type": "code",
   "execution_count": 10,
   "id": "2691a96c",
   "metadata": {},
   "outputs": [
    {
     "data": {
      "text/plain": [
       "'10'"
      ]
     },
     "execution_count": 10,
     "metadata": {},
     "output_type": "execute_result"
    }
   ],
   "source": [
    "cstr = \"\"\n",
    "\n",
    "cstr+=\"1\"\n",
    "cstr+=\"0\"\n",
    "\n",
    "cstr"
   ]
  },
  {
   "cell_type": "markdown",
   "id": "36bfbc39",
   "metadata": {},
   "source": [
    "## Dict\n"
   ]
  },
  {
   "cell_type": "code",
   "execution_count": 17,
   "id": "37b83b5f",
   "metadata": {},
   "outputs": [
    {
     "data": {
      "text/plain": [
       "True"
      ]
     },
     "execution_count": 17,
     "metadata": {},
     "output_type": "execute_result"
    }
   ],
   "source": [
    "# Lookup time in a dictionary is O(1)\n",
    "\n",
    "x = {'a': 'b', 'd':'3'}\n",
    "'a' in x"
   ]
  },
  {
   "cell_type": "code",
   "execution_count": 18,
   "id": "7e02ab4b",
   "metadata": {},
   "outputs": [
    {
     "data": {
      "text/plain": [
       "False"
      ]
     },
     "execution_count": 18,
     "metadata": {},
     "output_type": "execute_result"
    }
   ],
   "source": [
    "'b' in x"
   ]
  },
  {
   "cell_type": "code",
   "execution_count": 14,
   "id": "f74485d4",
   "metadata": {},
   "outputs": [
    {
     "data": {
      "text/plain": [
       "dict_keys(['a', 'd'])"
      ]
     },
     "execution_count": 14,
     "metadata": {},
     "output_type": "execute_result"
    }
   ],
   "source": [
    "x.keys()"
   ]
  },
  {
   "cell_type": "code",
   "execution_count": 15,
   "id": "de13d3e9",
   "metadata": {},
   "outputs": [
    {
     "data": {
      "text/plain": [
       "dict_values(['1', '3'])"
      ]
     },
     "execution_count": 15,
     "metadata": {},
     "output_type": "execute_result"
    }
   ],
   "source": [
    "x.values()"
   ]
  },
  {
   "cell_type": "code",
   "execution_count": 49,
   "id": "afaa9d58",
   "metadata": {},
   "outputs": [],
   "source": [
    "## Collections : Counter & Default Dict\n",
    "\n",
    "import collections\n",
    "\n",
    "x = 'anagram'\n",
    "\n",
    "# Creates a dictionary of letters in a string & their frequency; default values =0 for characters not in string | SLOW\n",
    "tracker = collections.Counter(x)   \n",
    "\n",
    "# Creates a default int dictionary with initial values= 0  | FAST\n",
    "tracker2 = collections.defaultdict(int)\n",
    "\n"
   ]
  },
  {
   "cell_type": "code",
   "execution_count": 50,
   "id": "413ea10f",
   "metadata": {},
   "outputs": [
    {
     "data": {
      "text/plain": [
       "Counter({'a': 3, 'n': 1, 'g': 1, 'r': 1, 'm': 1})"
      ]
     },
     "execution_count": 50,
     "metadata": {},
     "output_type": "execute_result"
    }
   ],
   "source": [
    "tracker"
   ]
  },
  {
   "cell_type": "code",
   "execution_count": 51,
   "id": "60bd2a14",
   "metadata": {},
   "outputs": [
    {
     "data": {
      "text/plain": [
       "defaultdict(int, {})"
      ]
     },
     "execution_count": 51,
     "metadata": {},
     "output_type": "execute_result"
    }
   ],
   "source": [
    "tracker2"
   ]
  },
  {
   "cell_type": "markdown",
   "id": "a2940783",
   "metadata": {},
   "source": [
    "## Stack  - Implementation using List"
   ]
  },
  {
   "cell_type": "code",
   "execution_count": 85,
   "id": "d2bda690",
   "metadata": {},
   "outputs": [],
   "source": [
    "stack = []   # LIFO"
   ]
  },
  {
   "cell_type": "code",
   "execution_count": 86,
   "id": "a2a8db51",
   "metadata": {},
   "outputs": [],
   "source": [
    "# push operation in stack = pushes element on top\n",
    "stack.append(3)\n",
    "stack.append(4)\n",
    "stack.append(10)"
   ]
  },
  {
   "cell_type": "code",
   "execution_count": 87,
   "id": "89d33eea",
   "metadata": {},
   "outputs": [
    {
     "data": {
      "text/plain": [
       "[3, 4, 10]"
      ]
     },
     "execution_count": 87,
     "metadata": {},
     "output_type": "execute_result"
    }
   ],
   "source": [
    "stack"
   ]
  },
  {
   "cell_type": "code",
   "execution_count": 88,
   "id": "b70044e9",
   "metadata": {},
   "outputs": [
    {
     "data": {
      "text/plain": [
       "10"
      ]
     },
     "execution_count": 88,
     "metadata": {},
     "output_type": "execute_result"
    }
   ],
   "source": [
    "# pop operation in stack\n",
    "stack.pop()  \n"
   ]
  },
  {
   "cell_type": "code",
   "execution_count": 89,
   "id": "6a066a12",
   "metadata": {},
   "outputs": [
    {
     "data": {
      "text/plain": [
       "[3, 4]"
      ]
     },
     "execution_count": 89,
     "metadata": {},
     "output_type": "execute_result"
    }
   ],
   "source": [
    "stack"
   ]
  },
  {
   "cell_type": "code",
   "execution_count": 90,
   "id": "45127b42",
   "metadata": {},
   "outputs": [
    {
     "data": {
      "text/plain": [
       "4"
      ]
     },
     "execution_count": 90,
     "metadata": {},
     "output_type": "execute_result"
    }
   ],
   "source": [
    "# stack peek() / top() operation\n",
    "stack[-1]"
   ]
  },
  {
   "cell_type": "code",
   "execution_count": 91,
   "id": "2a63c2ac",
   "metadata": {},
   "outputs": [
    {
     "name": "stdout",
     "output_type": "stream",
     "text": [
      "Not empty stack!\n"
     ]
    }
   ],
   "source": [
    "# stack isempty() operation\n",
    "if not stack:\n",
    "    print(\"Empty Stack!\")\n",
    "else:\n",
    "    print(\"Not empty stack!\")"
   ]
  },
  {
   "cell_type": "code",
   "execution_count": 92,
   "id": "5bd6c62e",
   "metadata": {},
   "outputs": [
    {
     "data": {
      "text/plain": [
       "2"
      ]
     },
     "execution_count": 92,
     "metadata": {},
     "output_type": "execute_result"
    }
   ],
   "source": [
    "# size of stack\n",
    "len(stack)"
   ]
  }
 ],
 "metadata": {
  "kernelspec": {
   "display_name": "local-venv-kernel",
   "language": "python",
   "name": "local-venv-kernel"
  },
  "language_info": {
   "codemirror_mode": {
    "name": "ipython",
    "version": 3
   },
   "file_extension": ".py",
   "mimetype": "text/x-python",
   "name": "python",
   "nbconvert_exporter": "python",
   "pygments_lexer": "ipython3",
   "version": "3.8.9"
  }
 },
 "nbformat": 4,
 "nbformat_minor": 5
}

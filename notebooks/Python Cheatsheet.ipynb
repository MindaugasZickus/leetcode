{
 "cells": [
  {
   "cell_type": "code",
   "execution_count": null,
   "id": "1bab4c52",
   "metadata": {},
   "outputs": [],
   "source": [
    "import re"
   ]
  },
  {
   "cell_type": "markdown",
   "id": "648facd3",
   "metadata": {},
   "source": [
    "## List"
   ]
  },
  {
   "cell_type": "code",
   "execution_count": null,
   "id": "3ad883c8",
   "metadata": {},
   "outputs": [],
   "source": [
    "nums = []"
   ]
  },
  {
   "cell_type": "code",
   "execution_count": null,
   "id": "7c87b0b6",
   "metadata": {},
   "outputs": [],
   "source": [
    "# check if list is empty\n",
    "if not nums:\n",
    "    print(\"Empty list\")"
   ]
  },
  {
   "cell_type": "code",
   "execution_count": null,
   "id": "a5776f8d",
   "metadata": {},
   "outputs": [],
   "source": [
    "scores = [1,5,7,2,9]\n",
    "\n",
    "print( \"Size of list :\", len(scores) )\n",
    "\n",
    "print( \"First element :\", scores[0])\n",
    "print( \"Last element :\", scores[-1])\n",
    "print( \"Display list with for each loop:\")\n",
    "for s in scores:\n",
    "    print(s)\n",
    "\n",
    "\n",
    "print( \"Display list with Range for loop:\")\n",
    "for i in range(len(scores)):\n",
    "    print(scores[i])"
   ]
  },
  {
   "cell_type": "code",
   "execution_count": null,
   "id": "6ca1cae5",
   "metadata": {},
   "outputs": [],
   "source": [
    "print(\"range 5\")\n",
    "for i in range(5):\n",
    "    print(i)\n",
    "    \n",
    "print(\"range(2,7)\")\n",
    "for i in range(2,7):\n",
    "    print(i)\n",
    "    \n",
    "print(\"range(7,2,-1)\")\n",
    "for i in range(7,2,-1):\n",
    "    print(i)"
   ]
  },
  {
   "cell_type": "code",
   "execution_count": null,
   "id": "a3b6ce55",
   "metadata": {},
   "outputs": [],
   "source": [
    "# Null equivalent in python is None\n",
    "class ListNode:\n",
    "    def __init__(self, val=0, next=None):\n",
    "        self.val = val\n",
    "        self.next = next\n",
    "\n",
    "x = ListNode()\n",
    "\n",
    "x.val"
   ]
  },
  {
   "cell_type": "markdown",
   "id": "5bb65845",
   "metadata": {},
   "source": [
    "## Strings"
   ]
  },
  {
   "cell_type": "code",
   "execution_count": null,
   "id": "b7ba33ae",
   "metadata": {},
   "outputs": [],
   "source": [
    "name = 'Rupashi Sangal'\n",
    "strn = 'why,thank]you'\n",
    "dog = \"tommy\"\n",
    "\n",
    "print( name.split())\n",
    "print( strn.split(','))\n",
    "print( list(strn))\n",
    "print( len(name))\n",
    "print( dog.capitalize())\n",
    "print( dog.upper())\n",
    "print( name.lower())\n",
    "print (dog.islower())\n",
    "print (dog.isupper())\n",
    "     \n",
    "\n"
   ]
  },
  {
   "cell_type": "markdown",
   "id": "95a8aa8d",
   "metadata": {},
   "source": [
    "## Random"
   ]
  },
  {
   "cell_type": "code",
   "execution_count": null,
   "id": "7a2cb8e6",
   "metadata": {},
   "outputs": [],
   "source": [
    "# If else in same line\n",
    "cur.next = list1 if list1 else list2\n",
    "\n",
    "# Assigning values in same line\n",
    "list1, cur = list1.next, list1\n",
    "\n"
   ]
  },
  {
   "cell_type": "code",
   "execution_count": 2,
   "id": "add126a5",
   "metadata": {
    "scrolled": true
   },
   "outputs": [
    {
     "name": "stdout",
     "output_type": "stream",
     "text": [
      "0\n",
      "1\n",
      "2\n"
     ]
    }
   ],
   "source": [
    "for i in range(int(7/2)):\n",
    "    print(i)"
   ]
  },
  {
   "cell_type": "code",
   "execution_count": 8,
   "id": "e215c424",
   "metadata": {},
   "outputs": [
    {
     "data": {
      "text/plain": [
       "'ihsapuR'"
      ]
     },
     "execution_count": 8,
     "metadata": {},
     "output_type": "execute_result"
    }
   ],
   "source": [
    "# Reverse a string\n",
    "s=\"Rupashi\"\n",
    "s[::-1]"
   ]
  },
  {
   "cell_type": "code",
   "execution_count": 9,
   "id": "fbc9819a",
   "metadata": {},
   "outputs": [
    {
     "data": {
      "text/plain": [
       "[9, 0, 1, 6, 4, 1]"
      ]
     },
     "execution_count": 9,
     "metadata": {},
     "output_type": "execute_result"
    }
   ],
   "source": [
    "# Reverse a list\n",
    "a = [1,4,6,1,0,9]\n",
    "a[::-1]"
   ]
  },
  {
   "cell_type": "code",
   "execution_count": null,
   "id": "7fa5a209",
   "metadata": {},
   "outputs": [],
   "source": [
    "## Three ways to check alpha numeric values"
   ]
  },
  {
   "cell_type": "code",
   "execution_count": null,
   "id": "54709d87",
   "metadata": {},
   "outputs": [],
   "source": [
    "class Solution:\n",
    "    def isPalindrome(self, s):\n",
    "        s = ''.join(e for e in s if e.isalnum()).lower()  # Way 1\n",
    "        return s==s[::-1]  "
   ]
  },
  {
   "cell_type": "code",
   "execution_count": null,
   "id": "364bed19",
   "metadata": {},
   "outputs": [],
   "source": [
    "s =\"Friends , are - forever\"\n",
    "s = list(filter(str.isalnum, s.lower()))  # Way 2"
   ]
  },
  {
   "cell_type": "code",
   "execution_count": null,
   "id": "cac7c81f",
   "metadata": {},
   "outputs": [],
   "source": [
    "sarr = list(re.sub('[^a-zA-Z0-9]', '', s.lower()))  # Way 3"
   ]
  },
  {
   "cell_type": "code",
   "execution_count": 40,
   "id": "3067bf47",
   "metadata": {},
   "outputs": [
    {
     "data": {
      "text/plain": [
       "True"
      ]
     },
     "execution_count": 40,
     "metadata": {},
     "output_type": "execute_result"
    }
   ],
   "source": [
    "# Any   : Works on a list of iterables\n",
    "\n",
    "any([0,-1,0])  # True\n",
    "any([0,0,0])   # False\n",
    "\n",
    "any({0:'Hi', 1:'Bye'}) # True\n",
    "all({3:'Hi', -1:'Bye'}) # True\n",
    "all({3:'Hi', 0:'Bye'})  # False\n"
   ]
  },
  {
   "cell_type": "code",
   "execution_count": null,
   "id": "02de6495",
   "metadata": {},
   "outputs": [],
   "source": []
  },
  {
   "cell_type": "markdown",
   "id": "087724ca",
   "metadata": {},
   "source": [
    "## Dict\n"
   ]
  },
  {
   "cell_type": "code",
   "execution_count": 17,
   "id": "fcc83c67",
   "metadata": {},
   "outputs": [
    {
     "data": {
      "text/plain": [
       "True"
      ]
     },
     "execution_count": 17,
     "metadata": {},
     "output_type": "execute_result"
    }
   ],
   "source": [
    "# Lookup time in a dictionary is O(1)\n",
    "\n",
    "x = {'a': 'b', 'd':'3'}\n",
    "'a' in x"
   ]
  },
  {
   "cell_type": "code",
   "execution_count": 18,
   "id": "b6631226",
   "metadata": {},
   "outputs": [
    {
     "data": {
      "text/plain": [
       "False"
      ]
     },
     "execution_count": 18,
     "metadata": {},
     "output_type": "execute_result"
    }
   ],
   "source": [
    "'b' in x"
   ]
  },
  {
   "cell_type": "code",
   "execution_count": 14,
   "id": "a1a7c5d7",
   "metadata": {},
   "outputs": [
    {
     "data": {
      "text/plain": [
       "dict_keys(['a', 'd'])"
      ]
     },
     "execution_count": 14,
     "metadata": {},
     "output_type": "execute_result"
    }
   ],
   "source": [
    "x.keys()"
   ]
  },
  {
   "cell_type": "code",
   "execution_count": 15,
   "id": "d5e94db5",
   "metadata": {},
   "outputs": [
    {
     "data": {
      "text/plain": [
       "dict_values(['1', '3'])"
      ]
     },
     "execution_count": 15,
     "metadata": {},
     "output_type": "execute_result"
    }
   ],
   "source": [
    "x.values()"
   ]
  },
  {
   "cell_type": "code",
   "execution_count": 22,
   "id": "d4339b8a",
   "metadata": {},
   "outputs": [],
   "source": [
    "## Collections : Counter & Default Dict\n",
    "\n",
    "import collections\n",
    "\n",
    "x = 'anagram'\n",
    "\n",
    "# Creates a dictionary of letters in a string & their frequency; default values =0 for characters not in string | SLOW\n",
    "tracker = collections.Counter(x)   \n",
    "\n",
    "# Creates a default int dictionary with initial values= 0  | FAST\n",
    "tracker2 = collections.defaultdict(int)\n",
    "\n"
   ]
  },
  {
   "cell_type": "code",
   "execution_count": 23,
   "id": "3f641f6e",
   "metadata": {},
   "outputs": [
    {
     "data": {
      "text/plain": [
       "Counter({'a': 3, 'n': 1, 'g': 1, 'r': 1, 'm': 1})"
      ]
     },
     "execution_count": 23,
     "metadata": {},
     "output_type": "execute_result"
    }
   ],
   "source": [
    "tracker"
   ]
  },
  {
   "cell_type": "code",
   "execution_count": 30,
   "id": "092e47fc",
   "metadata": {},
   "outputs": [
    {
     "data": {
      "text/plain": [
       "defaultdict(int, {-1: 0, 5: -1, 3: 0})"
      ]
     },
     "execution_count": 30,
     "metadata": {},
     "output_type": "execute_result"
    }
   ],
   "source": [
    "tracker2"
   ]
  },
  {
   "cell_type": "raw",
   "id": "a57b963d",
   "metadata": {},
   "source": []
  }
 ],
 "metadata": {
  "kernelspec": {
   "display_name": "local-venv-kernel",
   "language": "python",
   "name": "local-venv-kernel"
  },
  "language_info": {
   "codemirror_mode": {
    "name": "ipython",
    "version": 3
   },
   "file_extension": ".py",
   "mimetype": "text/x-python",
   "name": "python",
   "nbconvert_exporter": "python",
   "pygments_lexer": "ipython3",
   "version": "3.8.9"
  }
 },
 "nbformat": 4,
 "nbformat_minor": 5
}

{
 "cells": [
  {
   "cell_type": "code",
   "execution_count": 1,
   "id": "fe8a7359",
   "metadata": {
    "scrolled": false
   },
   "outputs": [],
   "source": [
    "import numpy\n",
    "import pandas"
   ]
  },
  {
   "cell_type": "code",
   "execution_count": 5,
   "id": "580fdcc5",
   "metadata": {
    "scrolled": true
   },
   "outputs": [
    {
     "name": "stdout",
     "output_type": "stream",
     "text": [
      "Python 3.9.13\n",
      "Package                 Version\n",
      "----------------------- ---------\n",
      "absl-py                 1.1.0\n",
      "astunparse              1.6.3\n",
      "cachetools              5.2.0\n",
      "certifi                 2022.6.15\n",
      "charset-normalizer      2.1.0\n",
      "distlib                 0.3.4\n",
      "filelock                3.7.1\n",
      "flatbuffers             1.12\n",
      "gast                    0.4.0\n",
      "google-auth             2.9.0\n",
      "google-auth-oauthlib    0.4.6\n",
      "google-pasta            0.2.0\n",
      "grpcio                  1.47.0\n",
      "h5py                    3.7.0\n",
      "idna                    3.3\n",
      "importlib-metadata      4.12.0\n",
      "joblib                  1.1.0\n",
      "keras                   2.9.0\n",
      "Keras-Preprocessing     1.1.2\n",
      "libclang                14.0.1\n",
      "Markdown                3.3.7\n",
      "numpy                   1.23.0\n",
      "oauthlib                3.2.0\n",
      "opt-einsum              3.3.0\n",
      "packaging               21.3\n",
      "pandas                  1.4.3\n",
      "pip                     22.1.2\n",
      "platformdirs            2.5.2\n",
      "protobuf                3.19.4\n",
      "pyasn1                  0.4.8\n",
      "pyasn1-modules          0.2.8\n",
      "pyparsing               3.0.9\n",
      "python-dateutil         2.8.2\n",
      "pytz                    2022.1\n",
      "requests                2.28.1\n",
      "requests-oauthlib       1.3.1\n",
      "rsa                     4.8\n",
      "scikit-learn            1.1.1\n",
      "scipy                   1.8.1\n",
      "setuptools              62.3.2\n",
      "six                     1.16.0\n",
      "sklearn                 0.0\n",
      "tensorboard             2.9.1\n",
      "tensorboard-data-server 0.6.1\n",
      "tensorboard-plugin-wit  1.8.1\n",
      "tensorflow-estimator    2.9.0\n",
      "tensorflow-macos        2.9.2\n",
      "termcolor               1.1.0\n",
      "threadpoolctl           3.1.0\n",
      "typing_extensions       4.3.0\n",
      "urllib3                 1.26.9\n",
      "virtualenv              20.15.1\n",
      "Werkzeug                2.1.2\n",
      "wheel                   0.37.1\n",
      "wrapt                   1.14.1\n",
      "zipp                    3.8.0\n"
     ]
    }
   ],
   "source": [
    "!python3 -V\n",
    "!pip list"
   ]
  },
  {
   "cell_type": "code",
   "execution_count": null,
   "id": "f8d32358",
   "metadata": {},
   "outputs": [],
   "source": [
    "s = \"()\""
   ]
  },
  {
   "cell_type": "code",
   "execution_count": null,
   "id": "4c866612",
   "metadata": {},
   "outputs": [],
   "source": [
    "list(s)"
   ]
  },
  {
   "cell_type": "code",
   "execution_count": null,
   "id": "8c712c84",
   "metadata": {},
   "outputs": [],
   "source": [
    "p = {')':'(', \n",
    "     ']':'[',\n",
    "     '}':'{'\n",
    "     }\n",
    "        \n",
    "stack = []\n",
    "\n",
    "for c in list(s):\n",
    "    if c not in p.keys():\n",
    "        stack.append(c)\n",
    "        continue\n",
    "\n",
    "    else:\n",
    "        if p[c] == stack[-1]:\n",
    "            stack.pop()\n",
    "            continue\n",
    "        else:\n",
    "            print(\"False\")\n",
    "\n",
    "\n",
    "# print(\"True\")"
   ]
  },
  {
   "cell_type": "code",
   "execution_count": null,
   "id": "93a89e22",
   "metadata": {},
   "outputs": [],
   "source": [
    "len(stack)==0"
   ]
  },
  {
   "cell_type": "code",
   "execution_count": null,
   "id": "a82e4cbc",
   "metadata": {},
   "outputs": [],
   "source": [
    "not stack"
   ]
  },
  {
   "cell_type": "code",
   "execution_count": 9,
   "id": "ced54c1b",
   "metadata": {},
   "outputs": [
    {
     "name": "stdout",
     "output_type": "stream",
     "text": [
      "4\n",
      "6\n",
      "3\n",
      "5\n",
      "1\n",
      "7\n"
     ]
    }
   ],
   "source": [
    "# Reverse tranverse a list\n",
    "x = [7,1,5,3,6,4]\n",
    "\n",
    "# for i in reversed(x):\n",
    "#     print(i)\n",
    "\n",
    "for i in range(1, len(x)+1):\n",
    "    print(x[-i])"
   ]
  },
  {
   "cell_type": "code",
   "execution_count": 11,
   "id": "0136d1bb",
   "metadata": {},
   "outputs": [
    {
     "data": {
      "text/plain": [
       "0"
      ]
     },
     "execution_count": 11,
     "metadata": {},
     "output_type": "execute_result"
    }
   ],
   "source": [
    "max(-5, 0)"
   ]
  },
  {
   "cell_type": "code",
   "execution_count": null,
   "id": "1f03dda5",
   "metadata": {},
   "outputs": [],
   "source": []
  }
 ],
 "metadata": {
  "kernelspec": {
   "display_name": "Python 3 (ipykernel)",
   "language": "python",
   "name": "python3"
  },
  "language_info": {
   "codemirror_mode": {
    "name": "ipython",
    "version": 3
   },
   "file_extension": ".py",
   "mimetype": "text/x-python",
   "name": "python",
   "nbconvert_exporter": "python",
   "pygments_lexer": "ipython3",
   "version": "3.9.13"
  }
 },
 "nbformat": 4,
 "nbformat_minor": 5
}

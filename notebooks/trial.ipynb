{
 "cells": [
  {
   "cell_type": "code",
   "execution_count": 43,
   "id": "fe8a7359",
   "metadata": {
    "scrolled": false
   },
   "outputs": [],
   "source": [
    "import numpy\n",
    "import pandas\n",
    "from collections import Counter, defaultdict"
   ]
  },
  {
   "cell_type": "code",
   "execution_count": 5,
   "id": "580fdcc5",
   "metadata": {
    "scrolled": true
   },
   "outputs": [
    {
     "name": "stdout",
     "output_type": "stream",
     "text": [
      "Python 3.9.13\n",
      "Package                 Version\n",
      "----------------------- ---------\n",
      "absl-py                 1.1.0\n",
      "astunparse              1.6.3\n",
      "cachetools              5.2.0\n",
      "certifi                 2022.6.15\n",
      "charset-normalizer      2.1.0\n",
      "distlib                 0.3.4\n",
      "filelock                3.7.1\n",
      "flatbuffers             1.12\n",
      "gast                    0.4.0\n",
      "google-auth             2.9.0\n",
      "google-auth-oauthlib    0.4.6\n",
      "google-pasta            0.2.0\n",
      "grpcio                  1.47.0\n",
      "h5py                    3.7.0\n",
      "idna                    3.3\n",
      "importlib-metadata      4.12.0\n",
      "joblib                  1.1.0\n",
      "keras                   2.9.0\n",
      "Keras-Preprocessing     1.1.2\n",
      "libclang                14.0.1\n",
      "Markdown                3.3.7\n",
      "numpy                   1.23.0\n",
      "oauthlib                3.2.0\n",
      "opt-einsum              3.3.0\n",
      "packaging               21.3\n",
      "pandas                  1.4.3\n",
      "pip                     22.1.2\n",
      "platformdirs            2.5.2\n",
      "protobuf                3.19.4\n",
      "pyasn1                  0.4.8\n",
      "pyasn1-modules          0.2.8\n",
      "pyparsing               3.0.9\n",
      "python-dateutil         2.8.2\n",
      "pytz                    2022.1\n",
      "requests                2.28.1\n",
      "requests-oauthlib       1.3.1\n",
      "rsa                     4.8\n",
      "scikit-learn            1.1.1\n",
      "scipy                   1.8.1\n",
      "setuptools              62.3.2\n",
      "six                     1.16.0\n",
      "sklearn                 0.0\n",
      "tensorboard             2.9.1\n",
      "tensorboard-data-server 0.6.1\n",
      "tensorboard-plugin-wit  1.8.1\n",
      "tensorflow-estimator    2.9.0\n",
      "tensorflow-macos        2.9.2\n",
      "termcolor               1.1.0\n",
      "threadpoolctl           3.1.0\n",
      "typing_extensions       4.3.0\n",
      "urllib3                 1.26.9\n",
      "virtualenv              20.15.1\n",
      "Werkzeug                2.1.2\n",
      "wheel                   0.37.1\n",
      "wrapt                   1.14.1\n",
      "zipp                    3.8.0\n"
     ]
    }
   ],
   "source": [
    "!python3 -V\n",
    "!pip list"
   ]
  },
  {
   "cell_type": "code",
   "execution_count": null,
   "id": "f8d32358",
   "metadata": {},
   "outputs": [],
   "source": [
    "s = \"()\""
   ]
  },
  {
   "cell_type": "code",
   "execution_count": null,
   "id": "4c866612",
   "metadata": {},
   "outputs": [],
   "source": [
    "list(s)"
   ]
  },
  {
   "cell_type": "code",
   "execution_count": null,
   "id": "8c712c84",
   "metadata": {},
   "outputs": [],
   "source": [
    "p = {')':'(', \n",
    "     ']':'[',\n",
    "     '}':'{'\n",
    "     }\n",
    "        \n",
    "stack = []\n",
    "\n",
    "for c in list(s):\n",
    "    if c not in p.keys():\n",
    "        stack.append(c)\n",
    "        continue\n",
    "\n",
    "    else:\n",
    "        if p[c] == stack[-1]:\n",
    "            stack.pop()\n",
    "            continue\n",
    "        else:\n",
    "            print(\"False\")\n",
    "\n",
    "\n",
    "# print(\"True\")"
   ]
  },
  {
   "cell_type": "code",
   "execution_count": null,
   "id": "93a89e22",
   "metadata": {},
   "outputs": [],
   "source": [
    "len(stack)==0"
   ]
  },
  {
   "cell_type": "code",
   "execution_count": null,
   "id": "a82e4cbc",
   "metadata": {},
   "outputs": [],
   "source": [
    "not stack"
   ]
  },
  {
   "cell_type": "code",
   "execution_count": 9,
   "id": "ced54c1b",
   "metadata": {},
   "outputs": [
    {
     "name": "stdout",
     "output_type": "stream",
     "text": [
      "4\n",
      "6\n",
      "3\n",
      "5\n",
      "1\n",
      "7\n"
     ]
    }
   ],
   "source": [
    "# Reverse tranverse a list\n",
    "x = [7,1,5,3,6,4]\n",
    "\n",
    "# for i in reversed(x):\n",
    "#     print(i)\n",
    "\n",
    "for i in range(1, len(x)+1):\n",
    "    print(x[-i])"
   ]
  },
  {
   "cell_type": "code",
   "execution_count": 11,
   "id": "0136d1bb",
   "metadata": {},
   "outputs": [
    {
     "data": {
      "text/plain": [
       "0"
      ]
     },
     "execution_count": 11,
     "metadata": {},
     "output_type": "execute_result"
    }
   ],
   "source": [
    "max(-5, 0)"
   ]
  },
  {
   "cell_type": "code",
   "execution_count": 1,
   "id": "1f03dda5",
   "metadata": {},
   "outputs": [],
   "source": [
    "\n"
   ]
  },
  {
   "cell_type": "code",
   "execution_count": 4,
   "id": "88ec1baa",
   "metadata": {},
   "outputs": [],
   "source": [
    "s=s.lower()"
   ]
  },
  {
   "cell_type": "code",
   "execution_count": 5,
   "id": "e03b1ca7",
   "metadata": {},
   "outputs": [
    {
     "data": {
      "text/plain": [
       "'friends , are - forever'"
      ]
     },
     "execution_count": 5,
     "metadata": {},
     "output_type": "execute_result"
    }
   ],
   "source": [
    "s"
   ]
  },
  {
   "cell_type": "code",
   "execution_count": 8,
   "id": "848d59a1",
   "metadata": {},
   "outputs": [],
   "source": [
    "import re\n",
    "s = re.sub('[^a-zA-Z0-9]', '', s)"
   ]
  },
  {
   "cell_type": "code",
   "execution_count": 9,
   "id": "63f0496d",
   "metadata": {},
   "outputs": [
    {
     "data": {
      "text/plain": [
       "'friendsareforever'"
      ]
     },
     "execution_count": 9,
     "metadata": {},
     "output_type": "execute_result"
    }
   ],
   "source": [
    "s"
   ]
  },
  {
   "cell_type": "code",
   "execution_count": 16,
   "id": "531e6c52",
   "metadata": {},
   "outputs": [],
   "source": [
    "st =\"Friends , are - forever\"\n",
    "s = list(filter(str.isalnum, st.lower()))\n",
    "        "
   ]
  },
  {
   "cell_type": "code",
   "execution_count": 17,
   "id": "927bba61",
   "metadata": {},
   "outputs": [
    {
     "data": {
      "text/plain": [
       "['f',\n",
       " 'r',\n",
       " 'i',\n",
       " 'e',\n",
       " 'n',\n",
       " 'd',\n",
       " 's',\n",
       " 'a',\n",
       " 'r',\n",
       " 'e',\n",
       " 'f',\n",
       " 'o',\n",
       " 'r',\n",
       " 'e',\n",
       " 'v',\n",
       " 'e',\n",
       " 'r']"
      ]
     },
     "execution_count": 17,
     "metadata": {},
     "output_type": "execute_result"
    }
   ],
   "source": [
    "s"
   ]
  },
  {
   "cell_type": "code",
   "execution_count": 18,
   "id": "ddb7e6ed",
   "metadata": {},
   "outputs": [
    {
     "data": {
      "text/plain": [
       "True"
      ]
     },
     "execution_count": 18,
     "metadata": {},
     "output_type": "execute_result"
    }
   ],
   "source": [
    "x =[]\n",
    "not x"
   ]
  },
  {
   "cell_type": "code",
   "execution_count": 49,
   "id": "4c36409e",
   "metadata": {},
   "outputs": [],
   "source": [
    "import collections\n",
    "tracker = collections.defaultdict(int)\n"
   ]
  },
  {
   "cell_type": "code",
   "execution_count": 50,
   "id": "a6968454",
   "metadata": {},
   "outputs": [],
   "source": [
    "s = 'anagram'\n",
    "tracker = collections.Counter(s)"
   ]
  },
  {
   "cell_type": "code",
   "execution_count": 51,
   "id": "ba998ef3",
   "metadata": {},
   "outputs": [
    {
     "data": {
      "text/plain": [
       "Counter({'a': 3, 'n': 1, 'g': 1, 'r': 1, 'm': 1})"
      ]
     },
     "execution_count": 51,
     "metadata": {},
     "output_type": "execute_result"
    }
   ],
   "source": [
    "tracker "
   ]
  },
  {
   "cell_type": "code",
   "execution_count": 52,
   "id": "49abfc71",
   "metadata": {
    "scrolled": true
   },
   "outputs": [],
   "source": [
    "t = 'nagaramw'\n",
    "\n",
    "for x in t: tracker[x] -=1"
   ]
  },
  {
   "cell_type": "code",
   "execution_count": 53,
   "id": "3e952ff7",
   "metadata": {},
   "outputs": [
    {
     "data": {
      "text/plain": [
       "Counter({'a': 0, 'n': 0, 'g': 0, 'r': 0, 'm': 0, 'w': -1})"
      ]
     },
     "execution_count": 53,
     "metadata": {},
     "output_type": "execute_result"
    }
   ],
   "source": [
    "tracker"
   ]
  },
  {
   "cell_type": "code",
   "execution_count": 54,
   "id": "d1ba9f0c",
   "metadata": {},
   "outputs": [
    {
     "data": {
      "text/plain": [
       "True"
      ]
     },
     "execution_count": 54,
     "metadata": {},
     "output_type": "execute_result"
    }
   ],
   "source": [
    "any(tracker)"
   ]
  },
  {
   "cell_type": "code",
   "execution_count": 56,
   "id": "19db10d2",
   "metadata": {},
   "outputs": [],
   "source": [
    "y=-1\n",
    "x = 2\n",
    "\n",
    "x = 3 if y>0 else x"
   ]
  },
  {
   "cell_type": "code",
   "execution_count": 57,
   "id": "04241a65",
   "metadata": {},
   "outputs": [
    {
     "data": {
      "text/plain": [
       "2"
      ]
     },
     "execution_count": 57,
     "metadata": {},
     "output_type": "execute_result"
    }
   ],
   "source": [
    "x"
   ]
  },
  {
   "cell_type": "code",
   "execution_count": 60,
   "id": "a9e6160d",
   "metadata": {},
   "outputs": [
    {
     "data": {
      "text/plain": [
       "[2, 3]"
      ]
     },
     "execution_count": 60,
     "metadata": {},
     "output_type": "execute_result"
    }
   ],
   "source": [
    "sorted([3,2])"
   ]
  },
  {
   "cell_type": "code",
   "execution_count": 63,
   "id": "b979c6bd",
   "metadata": {},
   "outputs": [
    {
     "data": {
      "text/plain": [
       "(2, False)"
      ]
     },
     "execution_count": 63,
     "metadata": {},
     "output_type": "execute_result"
    }
   ],
   "source": [
    "p = 2\n",
    "q = 7\n",
    "root = 6\n",
    "p, q < root"
   ]
  },
  {
   "cell_type": "code",
   "execution_count": 64,
   "id": "b095a567",
   "metadata": {},
   "outputs": [
    {
     "data": {
      "text/plain": [
       "False"
      ]
     },
     "execution_count": 64,
     "metadata": {},
     "output_type": "execute_result"
    }
   ],
   "source": [
    "p < root and q < root"
   ]
  },
  {
   "cell_type": "code",
   "execution_count": 1,
   "id": "63b0d425",
   "metadata": {},
   "outputs": [],
   "source": [
    "s = \"abCCccdd\""
   ]
  },
  {
   "cell_type": "code",
   "execution_count": 5,
   "id": "add4a7a6",
   "metadata": {},
   "outputs": [
    {
     "data": {
      "text/plain": [
       "Counter({'a': 1, 'b': 1, 'C': 2, 'c': 2, 'd': 2})"
      ]
     },
     "execution_count": 5,
     "metadata": {},
     "output_type": "execute_result"
    }
   ],
   "source": [
    "Counter(s)"
   ]
  },
  {
   "cell_type": "code",
   "execution_count": 9,
   "id": "44dff6fe",
   "metadata": {},
   "outputs": [
    {
     "data": {
      "text/plain": [
       "2"
      ]
     },
     "execution_count": 9,
     "metadata": {},
     "output_type": "execute_result"
    }
   ],
   "source": [
    "4 // 2"
   ]
  },
  {
   "cell_type": "code",
   "execution_count": 1,
   "id": "3426c28f",
   "metadata": {},
   "outputs": [
    {
     "data": {
      "text/plain": [
       "['1', '1', '1']"
      ]
     },
     "execution_count": 1,
     "metadata": {},
     "output_type": "execute_result"
    }
   ],
   "source": [
    "a = \"111\"\n",
    "list(a)"
   ]
  },
  {
   "cell_type": "code",
   "execution_count": 2,
   "id": "021f6223",
   "metadata": {},
   "outputs": [
    {
     "data": {
      "text/plain": [
       "'111'"
      ]
     },
     "execution_count": 2,
     "metadata": {},
     "output_type": "execute_result"
    }
   ],
   "source": [
    "a"
   ]
  },
  {
   "cell_type": "code",
   "execution_count": 3,
   "id": "d9c848f5",
   "metadata": {},
   "outputs": [
    {
     "data": {
      "text/plain": [
       "'1'"
      ]
     },
     "execution_count": 3,
     "metadata": {},
     "output_type": "execute_result"
    }
   ],
   "source": [
    "a[0]"
   ]
  },
  {
   "cell_type": "code",
   "execution_count": 14,
   "id": "f4c66d0f",
   "metadata": {},
   "outputs": [],
   "source": [
    "a=\"1101\""
   ]
  },
  {
   "cell_type": "code",
   "execution_count": 15,
   "id": "6a5ca54b",
   "metadata": {},
   "outputs": [
    {
     "data": {
      "text/plain": [
       "'1011'"
      ]
     },
     "execution_count": 15,
     "metadata": {},
     "output_type": "execute_result"
    }
   ],
   "source": [
    "a[::-1]"
   ]
  },
  {
   "cell_type": "code",
   "execution_count": 16,
   "id": "1ac3d6ed",
   "metadata": {},
   "outputs": [
    {
     "data": {
      "text/plain": [
       "'1101'"
      ]
     },
     "execution_count": 16,
     "metadata": {},
     "output_type": "execute_result"
    }
   ],
   "source": [
    "a"
   ]
  },
  {
   "cell_type": "code",
   "execution_count": 17,
   "id": "ab3510f5",
   "metadata": {},
   "outputs": [
    {
     "data": {
      "text/plain": [
       "4"
      ]
     },
     "execution_count": 17,
     "metadata": {},
     "output_type": "execute_result"
    }
   ],
   "source": [
    "2 ** 2"
   ]
  },
  {
   "cell_type": "code",
   "execution_count": 18,
   "id": "0ae674e4",
   "metadata": {},
   "outputs": [
    {
     "data": {
      "text/plain": [
       "8"
      ]
     },
     "execution_count": 18,
     "metadata": {},
     "output_type": "execute_result"
    }
   ],
   "source": [
    "2 ** 3"
   ]
  },
  {
   "cell_type": "code",
   "execution_count": 19,
   "id": "221e0444",
   "metadata": {},
   "outputs": [
    {
     "data": {
      "text/plain": [
       "'0b11'"
      ]
     },
     "execution_count": 19,
     "metadata": {},
     "output_type": "execute_result"
    }
   ],
   "source": [
    "bin(3)"
   ]
  },
  {
   "cell_type": "code",
   "execution_count": 25,
   "id": "6401f6de",
   "metadata": {},
   "outputs": [],
   "source": [
    "a = \"10100000100100110110010000010101111011011001101110111111111101000000101111001110001111100001101\"\n",
    "b = \"110101001011101110001111100110001010100001101011101010000011011011001011101111001100000011011110011\""
   ]
  },
  {
   "cell_type": "code",
   "execution_count": 26,
   "id": "b8a5e30d",
   "metadata": {},
   "outputs": [
    {
     "data": {
      "text/plain": [
       "24847893154024981730169397005"
      ]
     },
     "execution_count": 26,
     "metadata": {},
     "output_type": "execute_result"
    }
   ],
   "source": [
    "int(a,2) "
   ]
  },
  {
   "cell_type": "code",
   "execution_count": 27,
   "id": "eaa975ed",
   "metadata": {},
   "outputs": [
    {
     "data": {
      "text/plain": [
       "526700554598729746900966573811"
      ]
     },
     "execution_count": 27,
     "metadata": {},
     "output_type": "execute_result"
    }
   ],
   "source": [
    "int(b,2)"
   ]
  },
  {
   "cell_type": "code",
   "execution_count": 28,
   "id": "4a1a2272",
   "metadata": {},
   "outputs": [
    {
     "data": {
      "text/plain": [
       "1"
      ]
     },
     "execution_count": 28,
     "metadata": {},
     "output_type": "execute_result"
    }
   ],
   "source": [
    "3//2"
   ]
  },
  {
   "cell_type": "code",
   "execution_count": 29,
   "id": "7fe99156",
   "metadata": {},
   "outputs": [
    {
     "data": {
      "text/plain": [
       "2"
      ]
     },
     "execution_count": 29,
     "metadata": {},
     "output_type": "execute_result"
    }
   ],
   "source": [
    "5//2"
   ]
  },
  {
   "cell_type": "code",
   "execution_count": 31,
   "id": "5e6888e7",
   "metadata": {},
   "outputs": [
    {
     "data": {
      "text/plain": [
       "2"
      ]
     },
     "execution_count": 31,
     "metadata": {},
     "output_type": "execute_result"
    }
   ],
   "source": [
    "int(5/2)"
   ]
  },
  {
   "cell_type": "code",
   "execution_count": 7,
   "id": "d0ec786a",
   "metadata": {},
   "outputs": [
    {
     "name": "stdout",
     "output_type": "stream",
     "text": [
      "2\n",
      "3\n"
     ]
    },
    {
     "data": {
      "text/plain": [
       "[0, 1, 3, 5]"
      ]
     },
     "execution_count": 7,
     "metadata": {},
     "output_type": "execute_result"
    }
   ],
   "source": [
    "i=1\n",
    "k=3\n",
    "intervals = [0,1,2,3,4,5]\n",
    "for j in range(i+1, k+1):\n",
    "    print(j)\n",
    "    intervals.pop(j)\n",
    "    \n",
    "intervals"
   ]
  },
  {
   "cell_type": "code",
   "execution_count": 3,
   "id": "555b2654",
   "metadata": {},
   "outputs": [
    {
     "name": "stdout",
     "output_type": "stream",
     "text": [
      "2\n",
      "3\n"
     ]
    }
   ],
   "source": [
    "i=1\n",
    "k=3\n",
    "for j in range(i+1,k+1):\n",
    "    print(j)"
   ]
  },
  {
   "cell_type": "code",
   "execution_count": 9,
   "id": "3f77dd13",
   "metadata": {
    "scrolled": true
   },
   "outputs": [
    {
     "ename": "NameError",
     "evalue": "name 'List' is not defined",
     "output_type": "error",
     "traceback": [
      "\u001b[0;31m---------------------------------------------------------------------------\u001b[0m",
      "\u001b[0;31mNameError\u001b[0m                                 Traceback (most recent call last)",
      "Input \u001b[0;32mIn [9]\u001b[0m, in \u001b[0;36m<cell line: 1>\u001b[0;34m()\u001b[0m\n\u001b[0;32m----> 1\u001b[0m \u001b[43mList\u001b[49m([\u001b[38;5;241m2\u001b[39m,\u001b[38;5;241m3\u001b[39m])\n",
      "\u001b[0;31mNameError\u001b[0m: name 'List' is not defined"
     ]
    }
   ],
   "source": [
    "List([2,3])"
   ]
  },
  {
   "cell_type": "code",
   "execution_count": 11,
   "id": "b72cc567",
   "metadata": {},
   "outputs": [
    {
     "name": "stdout",
     "output_type": "stream",
     "text": [
      "0\n"
     ]
    }
   ],
   "source": [
    "for k in range(0,1):\n",
    "    print(k)\n",
    "    "
   ]
  },
  {
   "cell_type": "code",
   "execution_count": 18,
   "id": "343589ea",
   "metadata": {},
   "outputs": [],
   "source": [
    "from typing import List\n",
    "def insert(intervals: List[List[int]], newInterval: List[int]) -> List[List[int]]:\n",
    "\n",
    "    s, e = newInterval[0], newInterval[1]\n",
    "    n = len(intervals)\n",
    "\n",
    "    if not intervals:\n",
    "        intervals.append(newInterval)\n",
    "        return intervals\n",
    "\n",
    "    i, k = -1, -1\n",
    "\n",
    "    for I in range(n):         \n",
    "        if n==1 and s < intervals[I][0]:\n",
    "            i=-1\n",
    "            break\n",
    "        elif I==n-1 or intervals[I][0] <= s <= intervals[I+1][0]:\n",
    "            i=I\n",
    "            break\n",
    "\n",
    "    for K in range(i+1,n):\n",
    "        if K== n-1 or intervals[K][0] <= e < intervals[K+1][0]:\n",
    "            k=K\n",
    "            break\n",
    "\n",
    "#     if i == len(intervals)-1: k=-1\n",
    "\n",
    "    si, ei = intervals[i][0], intervals[i][1]\n",
    "    sii, eii = intervals[k][0], intervals[k][1] # change\n",
    "\n",
    "    print(i, k)\n",
    "\n",
    "    if i!=-1 and s <= ei:     # merging with 1st\n",
    "        if k!=-1 and sii <= e:    # merging with both\n",
    "            intervals[i] = [si, max(e,eii)]\n",
    "            for j in range(i+1, k+1):\n",
    "                intervals.pop(i+1)\n",
    "        else :\n",
    "            intervals[i] = [si, max(ei,e)]\n",
    "\n",
    "    elif k!=-1 and sii <=e:  # merging with 2nd \n",
    "        intervals[i+1] = [s, max(e, eii)]\n",
    "\n",
    "    else:  # no merge\n",
    "        intervals.insert(i+1, [s,e])       \n",
    "\n",
    "    return intervals\n",
    "        "
   ]
  },
  {
   "cell_type": "code",
   "execution_count": 19,
   "id": "3a97b7e9",
   "metadata": {},
   "outputs": [
    {
     "name": "stdout",
     "output_type": "stream",
     "text": [
      "0 -1\n"
     ]
    },
    {
     "data": {
      "text/plain": [
       "[[1, 5]]"
      ]
     },
     "execution_count": 19,
     "metadata": {},
     "output_type": "execute_result"
    }
   ],
   "source": [
    "insert([[1,5]], [2,3])"
   ]
  },
  {
   "cell_type": "code",
   "execution_count": 20,
   "id": "716e4646",
   "metadata": {},
   "outputs": [
    {
     "name": "stdout",
     "output_type": "stream",
     "text": [
      "-1 0\n"
     ]
    },
    {
     "data": {
      "text/plain": [
       "[[1, 5], [6, 9]]"
      ]
     },
     "execution_count": 20,
     "metadata": {},
     "output_type": "execute_result"
    }
   ],
   "source": [
    "insert([[6,9]],[1,5])"
   ]
  },
  {
   "cell_type": "code",
   "execution_count": 21,
   "id": "e21a4ecb",
   "metadata": {},
   "outputs": [
    {
     "name": "stdout",
     "output_type": "stream",
     "text": [
      "1 -1\n"
     ]
    },
    {
     "data": {
      "text/plain": [
       "[[1, 5], [6, 9]]"
      ]
     },
     "execution_count": 21,
     "metadata": {},
     "output_type": "execute_result"
    }
   ],
   "source": [
    "insert([[1,5],[6,8]], [0,9])"
   ]
  },
  {
   "cell_type": "code",
   "execution_count": 27,
   "id": "ad5b9d8c",
   "metadata": {},
   "outputs": [
    {
     "data": {
      "text/plain": [
       "2"
      ]
     },
     "execution_count": 27,
     "metadata": {},
     "output_type": "execute_result"
    }
   ],
   "source": [
    "x = [0,1,2,3,4]\n",
    "x[~2]"
   ]
  },
  {
   "cell_type": "code",
   "execution_count": 34,
   "id": "b6079b4c",
   "metadata": {},
   "outputs": [
    {
     "name": "stdout",
     "output_type": "stream",
     "text": [
      "[[1, 4], [7, 2], [1, 5], [6, 8]]\n"
     ]
    }
   ],
   "source": [
    "intervals = [[1,5],[6,8]]\n",
    "left = [[1,4],[7,2]]\n",
    "# left+=intervals[0]\n",
    "# left+=intervals[1]\n",
    "left.append(intervals[0])\n",
    "left.append(intervals[1])\n",
    "\n",
    "print(left)\n",
    "    "
   ]
  },
  {
   "cell_type": "code",
   "execution_count": 37,
   "id": "ccff0f8d",
   "metadata": {},
   "outputs": [
    {
     "name": "stdout",
     "output_type": "stream",
     "text": [
      "[[1, 4], [7, 2], [1, 5], [6, 8], [0, 0]]\n"
     ]
    }
   ],
   "source": [
    "print(left + [[0,0]])"
   ]
  },
  {
   "cell_type": "code",
   "execution_count": 38,
   "id": "a6bcaf59",
   "metadata": {},
   "outputs": [
    {
     "ename": "NameError",
     "evalue": "name 'Interval' is not defined",
     "output_type": "error",
     "traceback": [
      "\u001b[0;31m---------------------------------------------------------------------------\u001b[0m",
      "\u001b[0;31mNameError\u001b[0m                                 Traceback (most recent call last)",
      "Input \u001b[0;32mIn [38]\u001b[0m, in \u001b[0;36m<cell line: 1>\u001b[0;34m()\u001b[0m\n\u001b[0;32m----> 1\u001b[0m \u001b[43mInterval\u001b[49m[\u001b[38;5;241m1\u001b[39m,\u001b[38;5;241m3\u001b[39m]\n",
      "\u001b[0;31mNameError\u001b[0m: name 'Interval' is not defined"
     ]
    }
   ],
   "source": [
    "Interval[1,3]"
   ]
  },
  {
   "cell_type": "code",
   "execution_count": 39,
   "id": "09431c86",
   "metadata": {},
   "outputs": [
    {
     "data": {
      "text/plain": [
       "[[4, 5]]"
      ]
     },
     "execution_count": 39,
     "metadata": {},
     "output_type": "execute_result"
    }
   ],
   "source": [
    "left = []\n",
    "mid = [[4,5]]\n",
    "\n",
    "left + mid"
   ]
  },
  {
   "cell_type": "code",
   "execution_count": 40,
   "id": "30853404",
   "metadata": {},
   "outputs": [
    {
     "data": {
      "text/plain": [
       "[[1, 5], [6, 8]]"
      ]
     },
     "execution_count": 40,
     "metadata": {},
     "output_type": "execute_result"
    }
   ],
   "source": [
    "intervals"
   ]
  },
  {
   "cell_type": "code",
   "execution_count": 42,
   "id": "0f72aaae",
   "metadata": {},
   "outputs": [
    {
     "name": "stdout",
     "output_type": "stream",
     "text": [
      "0 [1, 5]\n",
      "1 [6, 8]\n"
     ]
    }
   ],
   "source": [
    "for (x,y) in enumerate(intervals):\n",
    "    print(x,y)"
   ]
  },
  {
   "cell_type": "code",
   "execution_count": 53,
   "id": "a44cc895",
   "metadata": {},
   "outputs": [
    {
     "ename": "TypeError",
     "evalue": "cannot convert dictionary update sequence element #0 to a sequence",
     "output_type": "error",
     "traceback": [
      "\u001b[0;31m---------------------------------------------------------------------------\u001b[0m",
      "\u001b[0;31mTypeError\u001b[0m                                 Traceback (most recent call last)",
      "Input \u001b[0;32mIn [53]\u001b[0m, in \u001b[0;36m<cell line: 5>\u001b[0;34m()\u001b[0m\n\u001b[1;32m      2\u001b[0m lookup \u001b[38;5;241m=\u001b[39m Counter(nums)\n\u001b[1;32m      3\u001b[0m lookup\n\u001b[0;32m----> 5\u001b[0m dic \u001b[38;5;241m=\u001b[39m \u001b[38;5;28;43mdict\u001b[39;49m\u001b[43m(\u001b[49m\u001b[43mnums\u001b[49m\u001b[43m)\u001b[49m\n",
      "\u001b[0;31mTypeError\u001b[0m: cannot convert dictionary update sequence element #0 to a sequence"
     ]
    }
   ],
   "source": [
    "nums = [-1,0,1,2,-1,-4]\n",
    "lookup = Counter(nums)\n",
    "lookup\n",
    "\n",
    "dic = dict(nums)"
   ]
  },
  {
   "cell_type": "code",
   "execution_count": 48,
   "id": "58d3f9c4",
   "metadata": {},
   "outputs": [
    {
     "name": "stdout",
     "output_type": "stream",
     "text": [
      "yes\n"
     ]
    }
   ],
   "source": [
    "if 2 in lookup:\n",
    "    print('yes')\n"
   ]
  },
  {
   "cell_type": "code",
   "execution_count": 49,
   "id": "9c1db748",
   "metadata": {},
   "outputs": [
    {
     "name": "stdout",
     "output_type": "stream",
     "text": [
      "[[1, 1, 2], [1, 2, 1]]\n"
     ]
    },
    {
     "ename": "TypeError",
     "evalue": "unhashable type: 'list'",
     "output_type": "error",
     "traceback": [
      "\u001b[0;31m---------------------------------------------------------------------------\u001b[0m",
      "\u001b[0;31mTypeError\u001b[0m                                 Traceback (most recent call last)",
      "Input \u001b[0;32mIn [49]\u001b[0m, in \u001b[0;36m<cell line: 3>\u001b[0;34m()\u001b[0m\n\u001b[1;32m      1\u001b[0m a \u001b[38;5;241m=\u001b[39m [[\u001b[38;5;241m1\u001b[39m,\u001b[38;5;241m1\u001b[39m,\u001b[38;5;241m2\u001b[39m], [\u001b[38;5;241m1\u001b[39m,\u001b[38;5;241m2\u001b[39m,\u001b[38;5;241m1\u001b[39m]]\n\u001b[1;32m      2\u001b[0m \u001b[38;5;28mprint\u001b[39m(a)\n\u001b[0;32m----> 3\u001b[0m \u001b[38;5;28mprint\u001b[39m(\u001b[38;5;28;43mset\u001b[39;49m\u001b[43m(\u001b[49m\u001b[43ma\u001b[49m\u001b[43m)\u001b[49m)\n",
      "\u001b[0;31mTypeError\u001b[0m: unhashable type: 'list'"
     ]
    }
   ],
   "source": [
    "a = [[1,1,2], [1,2,1]]\n",
    "print(a)\n",
    "print(set(a))"
   ]
  },
  {
   "cell_type": "code",
   "execution_count": 56,
   "id": "7957b980",
   "metadata": {},
   "outputs": [
    {
     "ename": "SyntaxError",
     "evalue": "invalid syntax (3675418957.py, line 2)",
     "output_type": "error",
     "traceback": [
      "\u001b[0;36m  Input \u001b[0;32mIn [56]\u001b[0;36m\u001b[0m\n\u001b[0;31m    pairs[[1,2] = 1\u001b[0m\n\u001b[0m                ^\u001b[0m\n\u001b[0;31mSyntaxError\u001b[0m\u001b[0;31m:\u001b[0m invalid syntax\n"
     ]
    }
   ],
   "source": [
    "pairs = {}\n",
    "pairs[[1,2] = 1\n"
   ]
  },
  {
   "cell_type": "code",
   "execution_count": 61,
   "id": "23c2b4ad",
   "metadata": {},
   "outputs": [],
   "source": [
    "x = { 2: [1,4], 5: [1,7]}"
   ]
  },
  {
   "cell_type": "code",
   "execution_count": 65,
   "id": "a472f903",
   "metadata": {},
   "outputs": [
    {
     "data": {
      "text/plain": [
       "True"
      ]
     },
     "execution_count": 65,
     "metadata": {},
     "output_type": "execute_result"
    }
   ],
   "source": [
    "[1,7] in x.values()"
   ]
  },
  {
   "cell_type": "code",
   "execution_count": 70,
   "id": "56da6050",
   "metadata": {},
   "outputs": [
    {
     "ename": "TypeError",
     "evalue": "unhashable type: 'list'",
     "output_type": "error",
     "traceback": [
      "\u001b[0;31m---------------------------------------------------------------------------\u001b[0m",
      "\u001b[0;31mTypeError\u001b[0m                                 Traceback (most recent call last)",
      "Input \u001b[0;32mIn [70]\u001b[0m, in \u001b[0;36m<cell line: 1>\u001b[0;34m()\u001b[0m\n\u001b[0;32m----> 1\u001b[0m \u001b[38;5;28;43mset\u001b[39;49m\u001b[43m(\u001b[49m\u001b[43m \u001b[49m\u001b[43m[\u001b[49m\u001b[43m[\u001b[49m\u001b[38;5;241;43m0\u001b[39;49m\u001b[43m,\u001b[49m\u001b[38;5;241;43m1\u001b[39;49m\u001b[43m]\u001b[49m\u001b[43m,\u001b[49m\u001b[43m \u001b[49m\u001b[43m[\u001b[49m\u001b[38;5;241;43m1\u001b[39;49m\u001b[43m,\u001b[49m\u001b[38;5;241;43m4\u001b[39;49m\u001b[43m]\u001b[49m\u001b[43m,\u001b[49m\u001b[43m \u001b[49m\u001b[43m[\u001b[49m\u001b[38;5;241;43m1\u001b[39;49m\u001b[43m,\u001b[49m\u001b[38;5;241;43m0\u001b[39;49m\u001b[43m]\u001b[49m\u001b[43m]\u001b[49m\u001b[43m)\u001b[49m\n",
      "\u001b[0;31mTypeError\u001b[0m: unhashable type: 'list'"
     ]
    }
   ],
   "source": [
    "set( [[0,1], [1,4], [1,0]])"
   ]
  },
  {
   "cell_type": "code",
   "execution_count": 71,
   "id": "4cacadb5",
   "metadata": {},
   "outputs": [],
   "source": [
    "pairs = [[1,2], [4,5]]"
   ]
  },
  {
   "cell_type": "code",
   "execution_count": 73,
   "id": "208ec72b",
   "metadata": {},
   "outputs": [],
   "source": [
    "if [5,4] in pairs:\n",
    "    print(\"yes\")"
   ]
  },
  {
   "cell_type": "code",
   "execution_count": 74,
   "id": "8ff22246",
   "metadata": {},
   "outputs": [
    {
     "data": {
      "text/plain": [
       "{4, 5}"
      ]
     },
     "execution_count": 74,
     "metadata": {},
     "output_type": "execute_result"
    }
   ],
   "source": [
    "set([4,5])"
   ]
  },
  {
   "cell_type": "code",
   "execution_count": 75,
   "id": "35cfb65b",
   "metadata": {},
   "outputs": [
    {
     "data": {
      "text/plain": [
       "{4, 5}"
      ]
     },
     "execution_count": 75,
     "metadata": {},
     "output_type": "execute_result"
    }
   ],
   "source": [
    "set([5,4])"
   ]
  },
  {
   "cell_type": "code",
   "execution_count": 76,
   "id": "fb8c0dde",
   "metadata": {},
   "outputs": [
    {
     "data": {
      "text/plain": [
       "True"
      ]
     },
     "execution_count": 76,
     "metadata": {},
     "output_type": "execute_result"
    }
   ],
   "source": [
    "set([-1,-1,2]) == set([-1,2,-1])"
   ]
  },
  {
   "cell_type": "code",
   "execution_count": 77,
   "id": "c9b4a554",
   "metadata": {},
   "outputs": [
    {
     "data": {
      "text/plain": [
       "{-1, 2}"
      ]
     },
     "execution_count": 77,
     "metadata": {},
     "output_type": "execute_result"
    }
   ],
   "source": [
    "set([-1,2,-1])"
   ]
  },
  {
   "cell_type": "code",
   "execution_count": 87,
   "id": "aefc2034",
   "metadata": {},
   "outputs": [],
   "source": [
    "a = [-1,2,-1]\n",
    "a.sort()"
   ]
  },
  {
   "cell_type": "code",
   "execution_count": 88,
   "id": "041b3f57",
   "metadata": {},
   "outputs": [
    {
     "data": {
      "text/plain": [
       "[-1, -1, 2]"
      ]
     },
     "execution_count": 88,
     "metadata": {},
     "output_type": "execute_result"
    }
   ],
   "source": [
    "a"
   ]
  },
  {
   "cell_type": "code",
   "execution_count": 92,
   "id": "9f3eb987",
   "metadata": {},
   "outputs": [],
   "source": [
    "a = [-1,-2,4,5,6]\n",
    "lookup = {}\n",
    "for i, n in enumerate(a):\n",
    "    lookup[n] = i"
   ]
  },
  {
   "cell_type": "code",
   "execution_count": 93,
   "id": "70561c49",
   "metadata": {},
   "outputs": [
    {
     "data": {
      "text/plain": [
       "{-1: 0, -2: 1, 4: 2, 5: 3, 6: 4}"
      ]
     },
     "execution_count": 93,
     "metadata": {},
     "output_type": "execute_result"
    }
   ],
   "source": [
    "lookup"
   ]
  },
  {
   "cell_type": "code",
   "execution_count": 94,
   "id": "9402134b",
   "metadata": {},
   "outputs": [
    {
     "data": {
      "text/plain": [
       "1"
      ]
     },
     "execution_count": 94,
     "metadata": {},
     "output_type": "execute_result"
    }
   ],
   "source": [
    "a.index(-2)"
   ]
  },
  {
   "cell_type": "code",
   "execution_count": 95,
   "id": "f4e40484",
   "metadata": {},
   "outputs": [],
   "source": [
    "dic = {'[1,2,3]': 1}"
   ]
  },
  {
   "cell_type": "code",
   "execution_count": 96,
   "id": "f53cd692",
   "metadata": {},
   "outputs": [
    {
     "data": {
      "text/plain": [
       "{'[1,2,3]': 1}"
      ]
     },
     "execution_count": 96,
     "metadata": {},
     "output_type": "execute_result"
    }
   ],
   "source": [
    "dic"
   ]
  },
  {
   "cell_type": "code",
   "execution_count": 101,
   "id": "d72444dc",
   "metadata": {},
   "outputs": [],
   "source": [
    "if '[3,1,2]' in dic:\n",
    "    print(\"yes\")"
   ]
  },
  {
   "cell_type": "code",
   "execution_count": 105,
   "id": "4084206c",
   "metadata": {},
   "outputs": [
    {
     "data": {
      "text/plain": [
       "['[', '1', ',', '2', ',', '3', ']']"
      ]
     },
     "execution_count": 105,
     "metadata": {},
     "output_type": "execute_result"
    }
   ],
   "source": [
    "res = \"[1,2,3]\"\n",
    "list(res)"
   ]
  },
  {
   "cell_type": "code",
   "execution_count": 110,
   "id": "929ed9c4",
   "metadata": {},
   "outputs": [],
   "source": [
    "x = set(a)"
   ]
  },
  {
   "cell_type": "code",
   "execution_count": 111,
   "id": "2882d8f7",
   "metadata": {},
   "outputs": [],
   "source": [
    "x.add(res)"
   ]
  },
  {
   "cell_type": "code",
   "execution_count": 112,
   "id": "3f35fea0",
   "metadata": {},
   "outputs": [
    {
     "data": {
      "text/plain": [
       "{-1, -2, 4, 5, 6, '[1,2,3]'}"
      ]
     },
     "execution_count": 112,
     "metadata": {},
     "output_type": "execute_result"
    }
   ],
   "source": [
    "x"
   ]
  },
  {
   "cell_type": "code",
   "execution_count": 117,
   "id": "a8164c3c",
   "metadata": {},
   "outputs": [
    {
     "data": {
      "text/plain": [
       "(2, 3, 4)"
      ]
     },
     "execution_count": 117,
     "metadata": {},
     "output_type": "execute_result"
    }
   ],
   "source": [
    "x = tuple(sorted([2,3,4]))\n",
    "x"
   ]
  },
  {
   "cell_type": "code",
   "execution_count": 122,
   "id": "1fd7129e",
   "metadata": {},
   "outputs": [],
   "source": [
    "res = set()\n",
    "res.add(x)"
   ]
  },
  {
   "cell_type": "code",
   "execution_count": 123,
   "id": "1766913a",
   "metadata": {},
   "outputs": [
    {
     "data": {
      "text/plain": [
       "{(2, 3, 4)}"
      ]
     },
     "execution_count": 123,
     "metadata": {},
     "output_type": "execute_result"
    }
   ],
   "source": [
    "res"
   ]
  },
  {
   "cell_type": "code",
   "execution_count": 124,
   "id": "c57ebc74",
   "metadata": {},
   "outputs": [],
   "source": [
    "res.add((2,3,4))"
   ]
  },
  {
   "cell_type": "code",
   "execution_count": 125,
   "id": "7b2e52fb",
   "metadata": {},
   "outputs": [
    {
     "data": {
      "text/plain": [
       "{(2, 3, 4)}"
      ]
     },
     "execution_count": 125,
     "metadata": {},
     "output_type": "execute_result"
    }
   ],
   "source": [
    "res"
   ]
  },
  {
   "cell_type": "code",
   "execution_count": 120,
   "id": "2fd32537",
   "metadata": {},
   "outputs": [],
   "source": [
    "res = set([1,2,3])"
   ]
  },
  {
   "cell_type": "code",
   "execution_count": 5,
   "id": "ceddcf1c",
   "metadata": {},
   "outputs": [
    {
     "ename": "NameError",
     "evalue": "name 'size' is not defined",
     "output_type": "error",
     "traceback": [
      "\u001b[0;31m---------------------------------------------------------------------------\u001b[0m",
      "\u001b[0;31mNameError\u001b[0m                                 Traceback (most recent call last)",
      "Input \u001b[0;32mIn [5]\u001b[0m, in \u001b[0;36m<cell line: 1>\u001b[0;34m()\u001b[0m\n\u001b[0;32m----> 1\u001b[0m \u001b[43msize\u001b[49m(res)\n",
      "\u001b[0;31mNameError\u001b[0m: name 'size' is not defined"
     ]
    }
   ],
   "source": [
    "size(res)"
   ]
  },
  {
   "cell_type": "code",
   "execution_count": 126,
   "id": "81d964b6",
   "metadata": {},
   "outputs": [
    {
     "data": {
      "text/plain": [
       "[1, 2, 3]"
      ]
     },
     "execution_count": 126,
     "metadata": {},
     "output_type": "execute_result"
    }
   ],
   "source": [
    "sorted([1,2,3])"
   ]
  },
  {
   "cell_type": "code",
   "execution_count": 2,
   "id": "0b8ebdc0",
   "metadata": {},
   "outputs": [
    {
     "name": "stdout",
     "output_type": "stream",
     "text": [
      "r\n",
      "u\n",
      "p\n",
      "a\n",
      "s\n",
      "h\n",
      "i\n",
      "upashi\n"
     ]
    }
   ],
   "source": [
    "s = \"rupashi\"\n",
    "for i in s:\n",
    "    print(i)\n",
    "\n",
    "print(s[1:])"
   ]
  },
  {
   "cell_type": "code",
   "execution_count": 3,
   "id": "4c6441d1",
   "metadata": {},
   "outputs": [
    {
     "name": "stdout",
     "output_type": "stream",
     "text": [
      "u\n",
      "p\n",
      "a\n",
      "s\n",
      "h\n",
      "i\n"
     ]
    }
   ],
   "source": [
    "for x in s[1:]:\n",
    "    print(x)"
   ]
  },
  {
   "cell_type": "code",
   "execution_count": 9,
   "id": "434ed1e8",
   "metadata": {},
   "outputs": [
    {
     "name": "stdout",
     "output_type": "stream",
     "text": [
      "r\n",
      "u\n",
      "p\n",
      "a\n",
      "s\n",
      "h\n",
      "i\n"
     ]
    }
   ],
   "source": [
    "for i in range(len(s)):\n",
    "    print(s[i])\n",
    "    i+=2\n",
    "    "
   ]
  },
  {
   "cell_type": "code",
   "execution_count": 11,
   "id": "1fce3586",
   "metadata": {},
   "outputs": [
    {
     "data": {
      "text/plain": [
       "{'w'}"
      ]
     },
     "execution_count": 11,
     "metadata": {},
     "output_type": "execute_result"
    }
   ],
   "source": [
    "sub = {'p','w'}\n",
    "\n",
    "sub.remove('p')\n",
    "sub\n"
   ]
  },
  {
   "cell_type": "code",
   "execution_count": 12,
   "id": "92c40313",
   "metadata": {},
   "outputs": [
    {
     "data": {
      "text/plain": [
       "104"
      ]
     },
     "execution_count": 12,
     "metadata": {},
     "output_type": "execute_result"
    }
   ],
   "source": [
    "ord(\"h\")"
   ]
  },
  {
   "cell_type": "code",
   "execution_count": null,
   "id": "1a58802e",
   "metadata": {},
   "outputs": [],
   "source": [
    "let = -1 * 256\n"
   ]
  }
 ],
 "metadata": {
  "kernelspec": {
   "display_name": "Python 3 (ipykernel)",
   "language": "python",
   "name": "python3"
  },
  "language_info": {
   "codemirror_mode": {
    "name": "ipython",
    "version": 3
   },
   "file_extension": ".py",
   "mimetype": "text/x-python",
   "name": "python",
   "nbconvert_exporter": "python",
   "pygments_lexer": "ipython3",
   "version": "3.9.13"
  }
 },
 "nbformat": 4,
 "nbformat_minor": 5
}

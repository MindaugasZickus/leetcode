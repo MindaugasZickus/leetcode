{
 "cells": [
  {
   "cell_type": "code",
   "execution_count": 11,
   "id": "01528801",
   "metadata": {},
   "outputs": [],
   "source": [
    "s = \"()\""
   ]
  },
  {
   "cell_type": "code",
   "execution_count": 12,
   "id": "5df9a0e9",
   "metadata": {},
   "outputs": [
    {
     "data": {
      "text/plain": [
       "['(', ')']"
      ]
     },
     "execution_count": 12,
     "metadata": {},
     "output_type": "execute_result"
    }
   ],
   "source": [
    "list(s)"
   ]
  },
  {
   "cell_type": "code",
   "execution_count": 13,
   "id": "9dbc4e65",
   "metadata": {},
   "outputs": [],
   "source": [
    "p = {')':'(', \n",
    "     ']':'[',\n",
    "     '}':'{'\n",
    "     }\n",
    "        \n",
    "stack = []\n",
    "\n",
    "for c in list(s):\n",
    "    if c not in p.keys():\n",
    "        stack.append(c)\n",
    "        continue\n",
    "\n",
    "    else:\n",
    "        if p[c] == stack[-1]:\n",
    "            stack.pop()\n",
    "            continue\n",
    "        else:\n",
    "            print(\"False\")\n",
    "\n",
    "\n",
    "# print(\"True\")"
   ]
  },
  {
   "cell_type": "code",
   "execution_count": 15,
   "id": "b2d1bb26",
   "metadata": {},
   "outputs": [
    {
     "data": {
      "text/plain": [
       "True"
      ]
     },
     "execution_count": 15,
     "metadata": {},
     "output_type": "execute_result"
    }
   ],
   "source": [
    "len(stack)==0"
   ]
  },
  {
   "cell_type": "code",
   "execution_count": 16,
   "id": "7e8d9dd9",
   "metadata": {},
   "outputs": [
    {
     "ename": "AttributeError",
     "evalue": "'list' object has no attribute 'size'",
     "output_type": "error",
     "traceback": [
      "\u001b[0;31m---------------------------------------------------------------------------\u001b[0m",
      "\u001b[0;31mAttributeError\u001b[0m                            Traceback (most recent call last)",
      "Input \u001b[0;32mIn [16]\u001b[0m, in \u001b[0;36m<cell line: 1>\u001b[0;34m()\u001b[0m\n\u001b[0;32m----> 1\u001b[0m \u001b[43mstack\u001b[49m\u001b[38;5;241;43m.\u001b[39;49m\u001b[43msize\u001b[49m()\n",
      "\u001b[0;31mAttributeError\u001b[0m: 'list' object has no attribute 'size'"
     ]
    }
   ],
   "source": [
    "stack.size()"
   ]
  },
  {
   "cell_type": "code",
   "execution_count": null,
   "id": "d7e994b5",
   "metadata": {},
   "outputs": [],
   "source": []
  }
 ],
 "metadata": {
  "kernelspec": {
   "display_name": "Python 3 (ipykernel)",
   "language": "python",
   "name": "python3"
  },
  "language_info": {
   "codemirror_mode": {
    "name": "ipython",
    "version": 3
   },
   "file_extension": ".py",
   "mimetype": "text/x-python",
   "name": "python",
   "nbconvert_exporter": "python",
   "pygments_lexer": "ipython3",
   "version": "3.8.9"
  }
 },
 "nbformat": 4,
 "nbformat_minor": 5
}

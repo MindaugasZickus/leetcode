{
 "cells": [
  {
   "cell_type": "code",
   "execution_count": 11,
   "id": "786f7bf1",
   "metadata": {},
   "outputs": [],
   "source": [
    "s = \"()\""
   ]
  },
  {
   "cell_type": "code",
   "execution_count": 12,
   "id": "0e99f1b6",
   "metadata": {},
   "outputs": [
    {
     "data": {
      "text/plain": [
       "['(', ')']"
      ]
     },
     "execution_count": 12,
     "metadata": {},
     "output_type": "execute_result"
    }
   ],
   "source": [
    "list(s)"
   ]
  },
  {
   "cell_type": "code",
   "execution_count": 13,
   "id": "ee964caa",
   "metadata": {},
   "outputs": [],
   "source": [
    "p = {')':'(', \n",
    "     ']':'[',\n",
    "     '}':'{'\n",
    "     }\n",
    "        \n",
    "stack = []\n",
    "\n",
    "for c in list(s):\n",
    "    if c not in p.keys():\n",
    "        stack.append(c)\n",
    "        continue\n",
    "\n",
    "    else:\n",
    "        if p[c] == stack[-1]:\n",
    "            stack.pop()\n",
    "            continue\n",
    "        else:\n",
    "            print(\"False\")\n",
    "\n",
    "\n",
    "# print(\"True\")"
   ]
  },
  {
   "cell_type": "code",
   "execution_count": 15,
   "id": "22a275f6",
   "metadata": {},
   "outputs": [
    {
     "data": {
      "text/plain": [
       "True"
      ]
     },
     "execution_count": 15,
     "metadata": {},
     "output_type": "execute_result"
    }
   ],
   "source": [
    "len(stack)==0"
   ]
  },
  {
   "cell_type": "code",
   "execution_count": 18,
   "id": "a628e67e",
   "metadata": {},
   "outputs": [
    {
     "data": {
      "text/plain": [
       "True"
      ]
     },
     "execution_count": 18,
     "metadata": {},
     "output_type": "execute_result"
    }
   ],
   "source": [
    "not stack"
   ]
  },
  {
   "cell_type": "code",
   "execution_count": null,
   "id": "b6bddcd8",
   "metadata": {},
   "outputs": [],
   "source": []
  }
 ],
 "metadata": {
  "kernelspec": {
   "display_name": "Python 3 (ipykernel)",
   "language": "python",
   "name": "python3"
  },
  "language_info": {
   "codemirror_mode": {
    "name": "ipython",
    "version": 3
   },
   "file_extension": ".py",
   "mimetype": "text/x-python",
   "name": "python",
   "nbconvert_exporter": "python",
   "pygments_lexer": "ipython3",
   "version": "3.8.9"
  }
 },
 "nbformat": 4,
 "nbformat_minor": 5
}
